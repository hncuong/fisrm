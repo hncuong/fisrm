{
 "cells": [
  {
   "cell_type": "code",
   "execution_count": 1,
   "metadata": {
    "collapsed": true
   },
   "outputs": [],
   "source": [
    "import numpy as np\n",
    "import pandas as pd"
   ]
  },
  {
   "cell_type": "code",
   "execution_count": 16,
   "metadata": {
    "collapsed": true
   },
   "outputs": [],
   "source": [
    "def positive_normal_random_gen_one(mu = 20,sigma=10):\n",
    "    a = np.random.normal(mu, sigma)\n",
    "    while a < 0:\n",
    "        a = np.random.normal(mu, sigma)\n",
    "    a = int(a)\n",
    "    return a"
   ]
  },
  {
   "cell_type": "code",
   "execution_count": 5,
   "metadata": {
    "collapsed": true
   },
   "outputs": [],
   "source": [
    "def gen_defect_inserted(dpq, cplex, scale=15):\n",
    "    muy = float(cplex + 1) / (dpq + 1)\n",
    "    muy *= scale\n",
    "    sigma = 10\n",
    "    if muy < (2 * sigma):\n",
    "        sigma = float(muy) /2\n",
    "    di = positive_normal_random_gen_one(muy, sigma)\n",
    "    return di"
   ]
  },
  {
   "cell_type": "code",
   "execution_count": 7,
   "metadata": {
    "collapsed": true
   },
   "outputs": [],
   "source": [
    "def gen_defect_testing(di, tq, add=5.2):\n",
    "    muy = di / (add - tq)\n",
    "    sigma = 5\n",
    "    if muy < 1:\n",
    "        muy = 1\n",
    "    if muy < (2 * sigma):\n",
    "        sigma = float(muy) / 2\n",
    "    dt = positive_normal_random_gen_one(muy, sigma)\n",
    "    return dt\n",
    "    \n",
    "    "
   ]
  },
  {
   "cell_type": "code",
   "execution_count": 9,
   "metadata": {
    "collapsed": true
   },
   "outputs": [],
   "source": [
    "def gen_residual_deffect(di, dt, sigma=1):\n",
    "    muy = di - dt\n",
    "    if muy < 1:\n",
    "        muy = 1\n",
    "    rd = positive_normal_random_gen_one(muy, sigma)\n",
    "    return rd"
   ]
  },
  {
   "cell_type": "code",
   "execution_count": 10,
   "metadata": {
    "collapsed": true
   },
   "outputs": [],
   "source": [
    "def gen_defect_oper(rd, ou, add=5.2):\n",
    "    muy = rd / (add - ou)\n",
    "    sigma = 2\n",
    "    if muy < 1:\n",
    "        muy = 1\n",
    "    dfo = positive_normal_random_gen_one(muy, sigma)\n",
    "    return dfo"
   ]
  },
  {
   "cell_type": "code",
   "execution_count": 13,
   "metadata": {
    "collapsed": true
   },
   "outputs": [],
   "source": [
    "data_size = 10000"
   ]
  },
  {
   "cell_type": "code",
   "execution_count": 14,
   "metadata": {
    "collapsed": false
   },
   "outputs": [],
   "source": [
    "data = pd.DataFrame(np.random.randint(low=0, high=5, size=(data_size, 4)), columns=['TQ','DPQ', 'C', 'OU'])"
   ]
  },
  {
   "cell_type": "code",
   "execution_count": 19,
   "metadata": {
    "collapsed": true
   },
   "outputs": [],
   "source": [
    "def positive_normal_random_gen(mu = 15,sigma=30, size=1000):\n",
    "    count = 0\n",
    "    ran_list = []\n",
    "    while (count < size):\n",
    "        a = np.random.normal(mu, sigma)\n",
    "        if (a >= 0):\n",
    "            ran_list.append(int(a))\n",
    "            count = count + 1\n",
    "            if (count >= size):\n",
    "                break\n",
    "    # count = np.zeros(300)\n",
    "    # for a in ran_list:\n",
    "    #     count[a] = count[a]+1\n",
    "    # plt.figure(1)\n",
    "    # plt.plot(count)\n",
    "    return np.array(ran_list)"
   ]
  },
  {
   "cell_type": "code",
   "execution_count": 20,
   "metadata": {
    "collapsed": false
   },
   "outputs": [],
   "source": [
    "data ['DI']= positive_normal_random_gen(mu=15,sigma=30,size=data_size)\n",
    "data ['DFT']=positive_normal_random_gen(mu=-60,sigma=35,size=data_size)\n",
    "data ['DFO']=positive_normal_random_gen(mu=-60,sigma=35,size=data_size)\n",
    "data ['RD']=positive_normal_random_gen(mu=-60,sigma=25,size=data_size)"
   ]
  },
  {
   "cell_type": "code",
   "execution_count": 21,
   "metadata": {
    "collapsed": false
   },
   "outputs": [],
   "source": [
    "for x in range(data_size):\n",
    "    data['DI'][x] = gen_defect_inserted(data['DPQ'][x], data['C'][x])\n",
    "    data['DFT'][x] = gen_defect_testing(data['DI'][x], data['TQ'][x])\n",
    "    data['RD'][x] = gen_residual_deffect(data['DI'][x], data['DFT'][x])\n",
    "    data['DFO'][x] = gen_defect_oper(data['RD'][x], data['OU'][x])\n",
    "    "
   ]
  },
  {
   "cell_type": "code",
   "execution_count": 22,
   "metadata": {
    "collapsed": true
   },
   "outputs": [],
   "source": [
    "data.to_csv(\"fisrm_data_2.csv\", index=False);\n"
   ]
  },
  {
   "cell_type": "code",
   "execution_count": null,
   "metadata": {
    "collapsed": true
   },
   "outputs": [],
   "source": []
  }
 ],
 "metadata": {
  "kernelspec": {
   "display_name": "Python 2",
   "language": "python",
   "name": "python2"
  },
  "language_info": {
   "codemirror_mode": {
    "name": "ipython",
    "version": 2
   },
   "file_extension": ".py",
   "mimetype": "text/x-python",
   "name": "python",
   "nbconvert_exporter": "python",
   "pygments_lexer": "ipython2",
   "version": "2.7.12"
  }
 },
 "nbformat": 4,
 "nbformat_minor": 0
}
